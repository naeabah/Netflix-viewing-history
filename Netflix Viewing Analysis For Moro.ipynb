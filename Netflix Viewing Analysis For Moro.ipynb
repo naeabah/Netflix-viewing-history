{
 "cells": [
  {
   "cell_type": "markdown",
   "metadata": {},
   "source": [
    "# Netflix Viewing History Analysis for Moro"
   ]
  },
  {
   "cell_type": "code",
   "execution_count": 1,
   "metadata": {},
   "outputs": [
    {
     "data": {
      "text/plain": [
       "<function seaborn.rcmod.set(context='notebook', style='darkgrid', palette='deep', font='sans-serif', font_scale=1, color_codes=True, rc=None)>"
      ]
     },
     "execution_count": 1,
     "metadata": {},
     "output_type": "execute_result"
    }
   ],
   "source": [
    "import pandas as pd\n",
    "import seaborn as sns\n",
    "import matplotlib.pyplot as plt\n",
    "import matplotlib as mlt\n",
    "import numpy as np\n",
    "from scipy import stats\n",
    "import datetime\n",
    "sns.set\n"
   ]
  },
  {
   "cell_type": "markdown",
   "metadata": {},
   "source": [
    "### Just a fun project to find out what Moro spends her time on while on Netflix. Does she prefer movies to TV shows, does she spend time every day of the week watching stuff? What month did she watch the most stuff on Netflix and what particular show is she really into?"
   ]
  },
  {
   "cell_type": "code",
   "execution_count": 2,
   "metadata": {},
   "outputs": [],
   "source": [
    "# Read in files and print the information\n",
    "# NetflixViewingHistory.csv was downloaded from Netflix from Viewer's activity. \n",
    "df= pd.read_csv('/Users/nae/Desktop/Dublin Business School/NetflixViewingHistoryMORO.csv')\n"
   ]
  },
  {
   "cell_type": "code",
   "execution_count": 3,
   "metadata": {
    "scrolled": true
   },
   "outputs": [
    {
     "data": {
      "text/html": [
       "<div>\n",
       "<style scoped>\n",
       "    .dataframe tbody tr th:only-of-type {\n",
       "        vertical-align: middle;\n",
       "    }\n",
       "\n",
       "    .dataframe tbody tr th {\n",
       "        vertical-align: top;\n",
       "    }\n",
       "\n",
       "    .dataframe thead th {\n",
       "        text-align: right;\n",
       "    }\n",
       "</style>\n",
       "<table border=\"1\" class=\"dataframe\">\n",
       "  <thead>\n",
       "    <tr style=\"text-align: right;\">\n",
       "      <th></th>\n",
       "      <th>Title</th>\n",
       "      <th>Date</th>\n",
       "    </tr>\n",
       "  </thead>\n",
       "  <tbody>\n",
       "    <tr>\n",
       "      <th>0</th>\n",
       "      <td>Òlòtūré</td>\n",
       "      <td>04/10/2020</td>\n",
       "    </tr>\n",
       "    <tr>\n",
       "      <th>1</th>\n",
       "      <td>Greenleaf: Season 5: Behold</td>\n",
       "      <td>29/09/2020</td>\n",
       "    </tr>\n",
       "    <tr>\n",
       "      <th>2</th>\n",
       "      <td>Greenleaf: Season 5: The Seventh Day</td>\n",
       "      <td>29/09/2020</td>\n",
       "    </tr>\n",
       "    <tr>\n",
       "      <th>3</th>\n",
       "      <td>Greenleaf: Season 5: The Sixth Day</td>\n",
       "      <td>29/09/2020</td>\n",
       "    </tr>\n",
       "    <tr>\n",
       "      <th>4</th>\n",
       "      <td>Greenleaf: Season 5: The Fifth Day</td>\n",
       "      <td>29/09/2020</td>\n",
       "    </tr>\n",
       "    <tr>\n",
       "      <th>5</th>\n",
       "      <td>Greenleaf: Season 5: The Fourth Day</td>\n",
       "      <td>29/09/2020</td>\n",
       "    </tr>\n",
       "    <tr>\n",
       "      <th>6</th>\n",
       "      <td>Greenleaf: Season 5: The Third Day</td>\n",
       "      <td>29/09/2020</td>\n",
       "    </tr>\n",
       "    <tr>\n",
       "      <th>7</th>\n",
       "      <td>Greenleaf: Season 5: The Second Day</td>\n",
       "      <td>27/09/2020</td>\n",
       "    </tr>\n",
       "    <tr>\n",
       "      <th>8</th>\n",
       "      <td>Greenleaf: Season 5: The First Day</td>\n",
       "      <td>26/09/2020</td>\n",
       "    </tr>\n",
       "    <tr>\n",
       "      <th>9</th>\n",
       "      <td>What's the Worst That Could Happen?</td>\n",
       "      <td>18/09/2020</td>\n",
       "    </tr>\n",
       "  </tbody>\n",
       "</table>\n",
       "</div>"
      ],
      "text/plain": [
       "                                  Title        Date\n",
       "0                               Òlòtūré  04/10/2020\n",
       "1           Greenleaf: Season 5: Behold  29/09/2020\n",
       "2  Greenleaf: Season 5: The Seventh Day  29/09/2020\n",
       "3    Greenleaf: Season 5: The Sixth Day  29/09/2020\n",
       "4    Greenleaf: Season 5: The Fifth Day  29/09/2020\n",
       "5   Greenleaf: Season 5: The Fourth Day  29/09/2020\n",
       "6    Greenleaf: Season 5: The Third Day  29/09/2020\n",
       "7   Greenleaf: Season 5: The Second Day  27/09/2020\n",
       "8    Greenleaf: Season 5: The First Day  26/09/2020\n",
       "9   What's the Worst That Could Happen?  18/09/2020"
      ]
     },
     "execution_count": 3,
     "metadata": {},
     "output_type": "execute_result"
    }
   ],
   "source": [
    "#View top 10 rows \n",
    "df.head(10)"
   ]
  },
  {
   "cell_type": "code",
   "execution_count": 4,
   "metadata": {},
   "outputs": [
    {
     "data": {
      "text/html": [
       "<div>\n",
       "<style scoped>\n",
       "    .dataframe tbody tr th:only-of-type {\n",
       "        vertical-align: middle;\n",
       "    }\n",
       "\n",
       "    .dataframe tbody tr th {\n",
       "        vertical-align: top;\n",
       "    }\n",
       "\n",
       "    .dataframe thead th {\n",
       "        text-align: right;\n",
       "    }\n",
       "</style>\n",
       "<table border=\"1\" class=\"dataframe\">\n",
       "  <thead>\n",
       "    <tr style=\"text-align: right;\">\n",
       "      <th></th>\n",
       "      <th>Title</th>\n",
       "      <th>Date</th>\n",
       "    </tr>\n",
       "  </thead>\n",
       "  <tbody>\n",
       "    <tr>\n",
       "      <th>370</th>\n",
       "      <td>Jumping the Broom</td>\n",
       "      <td>25/11/2019</td>\n",
       "    </tr>\n",
       "    <tr>\n",
       "      <th>371</th>\n",
       "      <td>Meet the Adebanjos: Season 1: Anniversary</td>\n",
       "      <td>24/11/2019</td>\n",
       "    </tr>\n",
       "    <tr>\n",
       "      <th>372</th>\n",
       "      <td>The Bridge</td>\n",
       "      <td>23/11/2019</td>\n",
       "    </tr>\n",
       "    <tr>\n",
       "      <th>373</th>\n",
       "      <td>Blue Streak</td>\n",
       "      <td>21/11/2019</td>\n",
       "    </tr>\n",
       "    <tr>\n",
       "      <th>374</th>\n",
       "      <td>Otherhood</td>\n",
       "      <td>21/11/2019</td>\n",
       "    </tr>\n",
       "    <tr>\n",
       "      <th>375</th>\n",
       "      <td>10 Days in Sun City</td>\n",
       "      <td>21/11/2019</td>\n",
       "    </tr>\n",
       "    <tr>\n",
       "      <th>376</th>\n",
       "      <td>Murder Mystery</td>\n",
       "      <td>18/11/2019</td>\n",
       "    </tr>\n",
       "    <tr>\n",
       "      <th>377</th>\n",
       "      <td>Dolemite Is My Name</td>\n",
       "      <td>16/11/2019</td>\n",
       "    </tr>\n",
       "    <tr>\n",
       "      <th>378</th>\n",
       "      <td>Raising Dion: Season 1: ISSUE #101: How Do You...</td>\n",
       "      <td>16/11/2019</td>\n",
       "    </tr>\n",
       "    <tr>\n",
       "      <th>379</th>\n",
       "      <td>New Money</td>\n",
       "      <td>16/11/2019</td>\n",
       "    </tr>\n",
       "  </tbody>\n",
       "</table>\n",
       "</div>"
      ],
      "text/plain": [
       "                                                 Title        Date\n",
       "370                                  Jumping the Broom  25/11/2019\n",
       "371          Meet the Adebanjos: Season 1: Anniversary  24/11/2019\n",
       "372                                         The Bridge  23/11/2019\n",
       "373                                        Blue Streak  21/11/2019\n",
       "374                                          Otherhood  21/11/2019\n",
       "375                                10 Days in Sun City  21/11/2019\n",
       "376                                     Murder Mystery  18/11/2019\n",
       "377                                Dolemite Is My Name  16/11/2019\n",
       "378  Raising Dion: Season 1: ISSUE #101: How Do You...  16/11/2019\n",
       "379                                          New Money  16/11/2019"
      ]
     },
     "execution_count": 4,
     "metadata": {},
     "output_type": "execute_result"
    }
   ],
   "source": [
    "#View bottom 10 rows \n",
    "df.tail(10)"
   ]
  },
  {
   "cell_type": "code",
   "execution_count": 5,
   "metadata": {},
   "outputs": [],
   "source": [
    "df['Date'] = pd.to_datetime(df['Date'])\n",
    "df['Year'], df['Month'] = df['Date'].dt.year, df['Date'].dt.month_name()\n",
    "df['Day'] = df['Date'].dt.day\n",
    "df['Day_of_week'] = df['Date'].dt.day_name()"
   ]
  },
  {
   "cell_type": "code",
   "execution_count": 6,
   "metadata": {},
   "outputs": [],
   "source": [
    "show_details = df.Title.str.split(\":\",expand=True,n=2)\n",
    "#show_details\n",
    "df['show_name'] = show_details[0]\n",
    "df['season'] = show_details[1]\n",
    "df['episode_name'] = show_details[2]"
   ]
  },
  {
   "cell_type": "code",
   "execution_count": 7,
   "metadata": {
    "scrolled": true
   },
   "outputs": [
    {
     "data": {
      "text/html": [
       "<div>\n",
       "<style scoped>\n",
       "    .dataframe tbody tr th:only-of-type {\n",
       "        vertical-align: middle;\n",
       "    }\n",
       "\n",
       "    .dataframe tbody tr th {\n",
       "        vertical-align: top;\n",
       "    }\n",
       "\n",
       "    .dataframe thead th {\n",
       "        text-align: right;\n",
       "    }\n",
       "</style>\n",
       "<table border=\"1\" class=\"dataframe\">\n",
       "  <thead>\n",
       "    <tr style=\"text-align: right;\">\n",
       "      <th></th>\n",
       "      <th>Title</th>\n",
       "      <th>Date</th>\n",
       "      <th>Year</th>\n",
       "      <th>Month</th>\n",
       "      <th>Day</th>\n",
       "      <th>Day_of_week</th>\n",
       "      <th>show_name</th>\n",
       "      <th>season</th>\n",
       "      <th>episode_name</th>\n",
       "      <th>show_type</th>\n",
       "    </tr>\n",
       "  </thead>\n",
       "  <tbody>\n",
       "    <tr>\n",
       "      <th>0</th>\n",
       "      <td>Òlòtūré</td>\n",
       "      <td>2020-04-10</td>\n",
       "      <td>2020</td>\n",
       "      <td>April</td>\n",
       "      <td>10</td>\n",
       "      <td>Friday</td>\n",
       "      <td>Òlòtūré</td>\n",
       "      <td>None</td>\n",
       "      <td>None</td>\n",
       "      <td>Movie</td>\n",
       "    </tr>\n",
       "    <tr>\n",
       "      <th>1</th>\n",
       "      <td>Greenleaf: Season 5: Behold</td>\n",
       "      <td>2020-09-29</td>\n",
       "      <td>2020</td>\n",
       "      <td>September</td>\n",
       "      <td>29</td>\n",
       "      <td>Tuesday</td>\n",
       "      <td>Greenleaf</td>\n",
       "      <td>Season 5</td>\n",
       "      <td>Behold</td>\n",
       "      <td>TV Show</td>\n",
       "    </tr>\n",
       "    <tr>\n",
       "      <th>2</th>\n",
       "      <td>Greenleaf: Season 5: The Seventh Day</td>\n",
       "      <td>2020-09-29</td>\n",
       "      <td>2020</td>\n",
       "      <td>September</td>\n",
       "      <td>29</td>\n",
       "      <td>Tuesday</td>\n",
       "      <td>Greenleaf</td>\n",
       "      <td>Season 5</td>\n",
       "      <td>The Seventh Day</td>\n",
       "      <td>TV Show</td>\n",
       "    </tr>\n",
       "    <tr>\n",
       "      <th>3</th>\n",
       "      <td>Greenleaf: Season 5: The Sixth Day</td>\n",
       "      <td>2020-09-29</td>\n",
       "      <td>2020</td>\n",
       "      <td>September</td>\n",
       "      <td>29</td>\n",
       "      <td>Tuesday</td>\n",
       "      <td>Greenleaf</td>\n",
       "      <td>Season 5</td>\n",
       "      <td>The Sixth Day</td>\n",
       "      <td>TV Show</td>\n",
       "    </tr>\n",
       "    <tr>\n",
       "      <th>4</th>\n",
       "      <td>Greenleaf: Season 5: The Fifth Day</td>\n",
       "      <td>2020-09-29</td>\n",
       "      <td>2020</td>\n",
       "      <td>September</td>\n",
       "      <td>29</td>\n",
       "      <td>Tuesday</td>\n",
       "      <td>Greenleaf</td>\n",
       "      <td>Season 5</td>\n",
       "      <td>The Fifth Day</td>\n",
       "      <td>TV Show</td>\n",
       "    </tr>\n",
       "    <tr>\n",
       "      <th>...</th>\n",
       "      <td>...</td>\n",
       "      <td>...</td>\n",
       "      <td>...</td>\n",
       "      <td>...</td>\n",
       "      <td>...</td>\n",
       "      <td>...</td>\n",
       "      <td>...</td>\n",
       "      <td>...</td>\n",
       "      <td>...</td>\n",
       "      <td>...</td>\n",
       "    </tr>\n",
       "    <tr>\n",
       "      <th>375</th>\n",
       "      <td>10 Days in Sun City</td>\n",
       "      <td>2019-11-21</td>\n",
       "      <td>2019</td>\n",
       "      <td>November</td>\n",
       "      <td>21</td>\n",
       "      <td>Thursday</td>\n",
       "      <td>10 Days in Sun City</td>\n",
       "      <td>None</td>\n",
       "      <td>None</td>\n",
       "      <td>Movie</td>\n",
       "    </tr>\n",
       "    <tr>\n",
       "      <th>376</th>\n",
       "      <td>Murder Mystery</td>\n",
       "      <td>2019-11-18</td>\n",
       "      <td>2019</td>\n",
       "      <td>November</td>\n",
       "      <td>18</td>\n",
       "      <td>Monday</td>\n",
       "      <td>Murder Mystery</td>\n",
       "      <td>None</td>\n",
       "      <td>None</td>\n",
       "      <td>Movie</td>\n",
       "    </tr>\n",
       "    <tr>\n",
       "      <th>377</th>\n",
       "      <td>Dolemite Is My Name</td>\n",
       "      <td>2019-11-16</td>\n",
       "      <td>2019</td>\n",
       "      <td>November</td>\n",
       "      <td>16</td>\n",
       "      <td>Saturday</td>\n",
       "      <td>Dolemite Is My Name</td>\n",
       "      <td>None</td>\n",
       "      <td>None</td>\n",
       "      <td>Movie</td>\n",
       "    </tr>\n",
       "    <tr>\n",
       "      <th>378</th>\n",
       "      <td>Raising Dion: Season 1: ISSUE #101: How Do You...</td>\n",
       "      <td>2019-11-16</td>\n",
       "      <td>2019</td>\n",
       "      <td>November</td>\n",
       "      <td>16</td>\n",
       "      <td>Saturday</td>\n",
       "      <td>Raising Dion</td>\n",
       "      <td>Season 1</td>\n",
       "      <td>ISSUE #101: How Do You Raise a Superhero?</td>\n",
       "      <td>TV Show</td>\n",
       "    </tr>\n",
       "    <tr>\n",
       "      <th>379</th>\n",
       "      <td>New Money</td>\n",
       "      <td>2019-11-16</td>\n",
       "      <td>2019</td>\n",
       "      <td>November</td>\n",
       "      <td>16</td>\n",
       "      <td>Saturday</td>\n",
       "      <td>New Money</td>\n",
       "      <td>None</td>\n",
       "      <td>None</td>\n",
       "      <td>Movie</td>\n",
       "    </tr>\n",
       "  </tbody>\n",
       "</table>\n",
       "<p>380 rows × 10 columns</p>\n",
       "</div>"
      ],
      "text/plain": [
       "                                                 Title       Date  Year  \\\n",
       "0                                              Òlòtūré 2020-04-10  2020   \n",
       "1                          Greenleaf: Season 5: Behold 2020-09-29  2020   \n",
       "2                 Greenleaf: Season 5: The Seventh Day 2020-09-29  2020   \n",
       "3                   Greenleaf: Season 5: The Sixth Day 2020-09-29  2020   \n",
       "4                   Greenleaf: Season 5: The Fifth Day 2020-09-29  2020   \n",
       "..                                                 ...        ...   ...   \n",
       "375                                10 Days in Sun City 2019-11-21  2019   \n",
       "376                                     Murder Mystery 2019-11-18  2019   \n",
       "377                                Dolemite Is My Name 2019-11-16  2019   \n",
       "378  Raising Dion: Season 1: ISSUE #101: How Do You... 2019-11-16  2019   \n",
       "379                                          New Money 2019-11-16  2019   \n",
       "\n",
       "         Month  Day Day_of_week            show_name     season  \\\n",
       "0        April   10      Friday              Òlòtūré       None   \n",
       "1    September   29     Tuesday            Greenleaf   Season 5   \n",
       "2    September   29     Tuesday            Greenleaf   Season 5   \n",
       "3    September   29     Tuesday            Greenleaf   Season 5   \n",
       "4    September   29     Tuesday            Greenleaf   Season 5   \n",
       "..         ...  ...         ...                  ...        ...   \n",
       "375   November   21    Thursday  10 Days in Sun City       None   \n",
       "376   November   18      Monday       Murder Mystery       None   \n",
       "377   November   16    Saturday  Dolemite Is My Name       None   \n",
       "378   November   16    Saturday         Raising Dion   Season 1   \n",
       "379   November   16    Saturday            New Money       None   \n",
       "\n",
       "                                   episode_name show_type  \n",
       "0                                          None     Movie  \n",
       "1                                        Behold   TV Show  \n",
       "2                               The Seventh Day   TV Show  \n",
       "3                                 The Sixth Day   TV Show  \n",
       "4                                 The Fifth Day   TV Show  \n",
       "..                                          ...       ...  \n",
       "375                                        None     Movie  \n",
       "376                                        None     Movie  \n",
       "377                                        None     Movie  \n",
       "378   ISSUE #101: How Do You Raise a Superhero?   TV Show  \n",
       "379                                        None     Movie  \n",
       "\n",
       "[380 rows x 10 columns]"
      ]
     },
     "execution_count": 7,
     "metadata": {},
     "output_type": "execute_result"
    }
   ],
   "source": [
    "#If the season column is \"None\" them it is most likely a movie, lets add another column to our dataframe \n",
    "#my_history[my_history['season'].isna()]\n",
    "df['show_type'] = df.apply(lambda x:'Movie' if pd.isnull(x['season']) else 'TV Show' , axis=1)\n",
    "df"
   ]
  },
  {
   "cell_type": "code",
   "execution_count": null,
   "metadata": {
    "scrolled": true
   },
   "outputs": [],
   "source": []
  },
  {
   "cell_type": "code",
   "execution_count": 8,
   "metadata": {
    "scrolled": true
   },
   "outputs": [
    {
     "data": {
      "text/plain": [
       "<matplotlib.axes._subplots.AxesSubplot at 0x7f953172c290>"
      ]
     },
     "execution_count": 8,
     "metadata": {},
     "output_type": "execute_result"
    },
    {
     "data": {
      "image/png": "[encoded data removed]",
      "text/plain": [
       "<Figure size 864x576 with 1 Axes>"
      ]
     },
     "metadata": {
      "needs_background": "light"
     },
     "output_type": "display_data"
    }
   ],
   "source": [
    "plt.figure(figsize = (12, 8)) \n",
    "sns.countplot(x = 'show_type', data = df)"
   ]
  },
  {
   "cell_type": "markdown",
   "metadata": {},
   "source": [
    "### Moro watches to a significant level, more tv shows than movies. "
   ]
  },
  {
   "cell_type": "code",
   "execution_count": 9,
   "metadata": {},
   "outputs": [
    {
     "data": {
      "text/plain": [
       "<matplotlib.axes._subplots.AxesSubplot at 0x7f953164d310>"
      ]
     },
     "execution_count": 9,
     "metadata": {},
     "output_type": "execute_result"
    },
    {
     "data": {
      "image/png": "[encoded data removed]",
      "text/plain": [
       "<Figure size 1296x720 with 1 Axes>"
      ]
     },
     "metadata": {
      "needs_background": "light"
     },
     "output_type": "display_data"
    }
   ],
   "source": [
    "plt.figure(figsize = (18, 10)) \n",
    "sns.countplot(y = 'show_name', data = df, order=df['show_name'].value_counts().iloc[:10].index)"
   ]
  },
  {
   "cell_type": "markdown",
   "metadata": {},
   "source": [
    "### I thought 'Friends' would be taking the lead, but look at that... Moro must really love Fresh Princes ;)"
   ]
  },
  {
   "cell_type": "code",
   "execution_count": 10,
   "metadata": {
    "scrolled": true
   },
   "outputs": [
    {
     "data": {
      "text/plain": [
       "<matplotlib.axes._subplots.AxesSubplot at 0x7f95324150d0>"
      ]
     },
     "execution_count": 10,
     "metadata": {},
     "output_type": "execute_result"
    },
    {
     "data": {
      "image/png": "[encoded data removed]",
      "text/plain": [
       "<Figure size 864x576 with 1 Axes>"
      ]
     },
     "metadata": {
      "needs_background": "light"
     },
     "output_type": "display_data"
    }
   ],
   "source": [
    "plt.figure(figsize = (12, 8)) \n",
    "sns.countplot(x = 'Day_of_week', data = df)"
   ]
  },
  {
   "cell_type": "markdown",
   "metadata": {},
   "source": [
    "#### Well, Moro seems to prefer watching stuff on Saturdays and Sundays which isn't so bad. I mean, thats pretty normal, isn't it?"
   ]
  },
  {
   "cell_type": "code",
   "execution_count": 11,
   "metadata": {
    "scrolled": true
   },
   "outputs": [
    {
     "data": {
      "text/plain": [
       "<matplotlib.axes._subplots.AxesSubplot at 0x7f9532add790>"
      ]
     },
     "execution_count": 11,
     "metadata": {},
     "output_type": "execute_result"
    },
    {
     "data": {
      "image/png": "[encoded data removed]",
      "text/plain": [
       "<Figure size 864x576 with 1 Axes>"
      ]
     },
     "metadata": {
      "needs_background": "light"
     },
     "output_type": "display_data"
    }
   ],
   "source": [
    "\n",
    "plt.figure(figsize = (12, 8)) \n",
    "sns.countplot(x = 'Month', data = df)\n"
   ]
  },
  {
   "cell_type": "markdown",
   "metadata": {},
   "source": [
    "#### LOL! MARCH!!!  Look at that Spike... To be fair, Moro went on vacation in March, lockdown was happening in March due to Covid19... There's another reason for the spike but that's between us. Lol"
   ]
  },
  {
   "cell_type": "code",
   "execution_count": 12,
   "metadata": {},
   "outputs": [
    {
     "data": {
      "image/png": "[encoded data removed]",
      "text/plain": [
       "<Figure size 864x576 with 2 Axes>"
      ]
     },
     "metadata": {
      "needs_background": "light"
     },
     "output_type": "display_data"
    }
   ],
   "source": [
    "plt.figure(figsize = (12, 8))\n",
    "ax=sns.heatmap(data=df.corr(), annot = True, cmap='seismic_r')"
   ]
  },
  {
   "cell_type": "code",
   "execution_count": null,
   "metadata": {},
   "outputs": [],
   "source": []
  }
 ],
 "metadata": {
  "kernelspec": {
   "display_name": "Python 3",
   "language": "python",
   "name": "python3"
  },
  "language_info": {
   "codemirror_mode": {
    "name": "ipython",
    "version": 3
   },
   "file_extension": ".py",
   "mimetype": "text/x-python",
   "name": "python",
   "nbconvert_exporter": "python",
   "pygments_lexer": "ipython3",
   "version": "3.7.6"
  }
 },
 "nbformat": 4,
 "nbformat_minor": 4
}
